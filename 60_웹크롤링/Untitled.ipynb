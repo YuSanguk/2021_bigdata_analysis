{
 "cells": [
  {
   "cell_type": "markdown",
   "metadata": {},
   "source": [
    "## TRACKING_JJAJANG"
   ]
  },
  {
   "cell_type": "code",
   "execution_count": 1,
   "metadata": {},
   "outputs": [],
   "source": [
    "import requests\n",
    "from bs4 import BeautifulSoup"
   ]
  },
  {
   "cell_type": "code",
   "execution_count": 2,
   "metadata": {},
   "outputs": [
    {
     "data": {
      "text/plain": [
       "<Response [200]>"
      ]
     },
     "execution_count": 2,
     "metadata": {},
     "output_type": "execute_result"
    }
   ],
   "source": [
    "url = 'https://www.op.gg/summoner/userName=%EA%B2%BD%EA%B8%B0%EB%8F%84%EB%B6%88%EC%A7%9C%EC%9E%A5'\n",
    "\n",
    "headers = {\n",
    "    'user-agent' : 'Mozilla/5.0 (Windows NT 10.0; Win64; x64) AppleWebKit/537.36 (KHTML, like Gecko) Chrome/92.0.4515.107 Safari/537.36'\n",
    "}\n",
    "res = requests.get(url, headers = headers)\n",
    "res"
   ]
  },
  {
   "cell_type": "code",
   "execution_count": 3,
   "metadata": {},
   "outputs": [
    {
     "ename": "AttributeError",
     "evalue": "'NoneType' object has no attribute 'get_text'",
     "output_type": "error",
     "traceback": [
      "\u001b[1;31m---------------------------------------------------------------------------\u001b[0m",
      "\u001b[1;31mAttributeError\u001b[0m                            Traceback (most recent call last)",
      "\u001b[1;32m<ipython-input-3-957612c2ba26>\u001b[0m in \u001b[0;36m<module>\u001b[1;34m\u001b[0m\n\u001b[0;32m      8\u001b[0m \u001b[0msoup\u001b[0m \u001b[1;33m=\u001b[0m \u001b[0mBeautifulSoup\u001b[0m\u001b[1;33m(\u001b[0m\u001b[0mres\u001b[0m\u001b[1;33m.\u001b[0m\u001b[0mtext\u001b[0m\u001b[1;33m)\u001b[0m\u001b[1;33m\u001b[0m\u001b[1;33m\u001b[0m\u001b[0m\n\u001b[0;32m      9\u001b[0m \u001b[1;33m\u001b[0m\u001b[0m\n\u001b[1;32m---> 10\u001b[1;33m \u001b[0mtier\u001b[0m \u001b[1;33m=\u001b[0m \u001b[0msoup\u001b[0m\u001b[1;33m.\u001b[0m\u001b[0mselect_one\u001b[0m\u001b[1;33m(\u001b[0m\u001b[1;34m\".TierRank\"\u001b[0m\u001b[1;33m)\u001b[0m\u001b[1;33m.\u001b[0m\u001b[0mget_text\u001b[0m\u001b[1;33m(\u001b[0m\u001b[1;33m)\u001b[0m\u001b[1;33m\u001b[0m\u001b[1;33m\u001b[0m\u001b[0m\n\u001b[0m\u001b[0;32m     11\u001b[0m \u001b[0mtier\u001b[0m \u001b[1;33m=\u001b[0m \u001b[1;34m'현재 티어 : {}'\u001b[0m\u001b[1;33m.\u001b[0m\u001b[0mformat\u001b[0m\u001b[1;33m(\u001b[0m\u001b[0mtier\u001b[0m\u001b[1;33m)\u001b[0m\u001b[1;33m\u001b[0m\u001b[1;33m\u001b[0m\u001b[0m\n\u001b[0;32m     12\u001b[0m \u001b[0mprint\u001b[0m\u001b[1;33m(\u001b[0m\u001b[0mtier\u001b[0m\u001b[1;33m)\u001b[0m\u001b[1;33m\u001b[0m\u001b[1;33m\u001b[0m\u001b[0m\n",
      "\u001b[1;31mAttributeError\u001b[0m: 'NoneType' object has no attribute 'get_text'"
     ]
    }
   ],
   "source": [
    "url = 'https://www.op.gg/summoner/userName=%EA%B2%BD%EA%B8%B0%EB%8F%84%EB%B6%88%EC%A7%9C%EC%9E%A5'\n",
    "\n",
    "headers = {\n",
    "    'user-agent' : 'Mozilla/5.0 (Windows NT 10.0; Win64; x64) AppleWebKit/537.36 (KHTML, like Gecko) Chrome/92.0.4515.107 Safari/537.36'\n",
    "}\n",
    "res = requests.get(url, headers = headers)\n",
    "\n",
    "soup = BeautifulSoup(res.text)\n",
    "\n",
    "tier = soup.select_one(\".TierRank\").get_text()\n",
    "tier = '현재 티어 : {}'.format(tier)\n",
    "print(tier)"
   ]
  },
  {
   "cell_type": "code",
   "execution_count": 5,
   "metadata": {},
   "outputs": [
    {
     "data": {
      "text/plain": [
       "[<a href=\"/summoner/userName=%EA%B2%BD%EA%B8%B0%EB%8F%84%EB%B6%88%EC%A7%9C%EC%9E%A5\">Summary</a>,\n",
       " <a href=\"/summoner/champions/userName=%EA%B2%BD%EA%B8%B0%EB%8F%84%EB%B6%88%EC%A7%9C%EC%9E%A5\">Champions</a>,\n",
       " <a class=\"SpectateTabButton\" href=\"#\"> <i class=\"icon\"></i>\n",
       " <span class=\"text\">Live Game</span> </a>]"
      ]
     },
     "execution_count": 5,
     "metadata": {},
     "output_type": "execute_result"
    }
   ],
   "source": [
    "kda = soup.select('.Menu>.MenuList a')\n",
    "kda"
   ]
  },
  {
   "cell_type": "code",
   "execution_count": 63,
   "metadata": {},
   "outputs": [
    {
     "data": {
      "text/plain": [
       "<Response [200]>"
      ]
     },
     "execution_count": 63,
     "metadata": {},
     "output_type": "execute_result"
    }
   ],
   "source": [
    "url2 = 'https://www.op.gg/summoner/ajax/spectateStatus/summonerName=%EA%B2%BD%EA%B8%B0%EB%8F%84%EB%B6%88%EC%A7%9C%EC%9E%A5'\n",
    "res2 = requests.get(url2, headers = headers)\n",
    "res2"
   ]
  },
  {
   "cell_type": "code",
   "execution_count": 64,
   "metadata": {},
   "outputs": [
    {
     "name": "stdout",
     "output_type": "stream",
     "text": [
      "Now playing!\n"
     ]
    }
   ],
   "source": [
    "try:\n",
    "    a = res2.json()['status']\n",
    "except KeyError:\n",
    "    a = '에러'\n",
    "print(a)"
   ]
  },
  {
   "cell_type": "code",
   "execution_count": 12,
   "metadata": {},
   "outputs": [
    {
     "name": "stdout",
     "output_type": "stream",
     "text": [
      "현재 티어 : Silver 4 ㅣ 41 LP\n"
     ]
    }
   ],
   "source": [
    "tier = soup.select_one(\".TierRank\").get_text()\n",
    "lp = soup.select_one('.LeaguePoints').get_text().split()[0]\n",
    "tier = '현재 티어 : {0} ㅣ {1} LP'.format(tier, lp)\n",
    "print(tier)"
   ]
  },
  {
   "cell_type": "code",
   "execution_count": 4,
   "metadata": {},
   "outputs": [
    {
     "name": "stdout",
     "output_type": "stream",
     "text": [
      "오늘 하루 4판(2승 2패) 했습니다\n",
      "오늘의 KDA는 1.73 입니다\n"
     ]
    }
   ],
   "source": [
    "url = 'https://www.op.gg/summoner/userName=%ED%95%A8%EA%B2%BD%EB%8F%84%EB%AC%BC%EB%83%89%EB%A9%B4'\n",
    "\n",
    "headers = {\n",
    "    'user-agent' : 'Mozilla/5.0 (Windows NT 10.0; Win64; x64) AppleWebKit/537.36 (KHTML, like Gecko) Chrome/92.0.4515.107 Safari/537.36'\n",
    "}\n",
    "res = requests.get(url, headers = headers)\n",
    "\n",
    "soup = BeautifulSoup(res.text)\n",
    "\n",
    "from datetime import datetime\n",
    "today = str(datetime.today())[0:10]\n",
    "\n",
    "time_data = soup.select('.TimeStamp ._timeago')\n",
    "win_data = soup.select('.GameStats .GameResult')\n",
    "count = 0\n",
    "win_count = 0\n",
    "for data in time_data:\n",
    "    d = data.get_text()\n",
    "    date = d[0:10]\n",
    "    time = d[11:]\n",
    "    if(date == today):\n",
    "        if(int(time[0:2]) > 8):\n",
    "            count += 1\n",
    "            if win_data[count-1].get_text().split() == ['Victory']:\n",
    "                win_count += 1\n",
    "if count == 0:\n",
    "    t_kda = '오늘은 아직 게임을 진행하지 않았습니다'\n",
    "else:\n",
    "    kda_data = soup.select('.Content>.KDA>.KDA>span')\n",
    "    k = 0\n",
    "    d = 0\n",
    "    a = 0\n",
    "    for i in range(count):\n",
    "        k += int(kda_data[i * 3].get_text())\n",
    "        d += int(kda_data[i * 3 + 1].get_text())\n",
    "        a += int(kda_data[i * 3 + 2].get_text())\n",
    "    t_kda = '오늘의 KDA는 {} 입니다'.format(round((k+a)/d, 2))\n",
    "s = '오늘 하루 {0}판({1}승 {2}패) 했습니다'.format(count, win_count, count - win_count)\n",
    "print(s)\n",
    "print(t_kda)"
   ]
  },
  {
   "cell_type": "code",
   "execution_count": 18,
   "metadata": {},
   "outputs": [
    {
     "name": "stdout",
     "output_type": "stream",
     "text": [
      "['Sett']\n"
     ]
    }
   ],
   "source": [
    "recent_champion = soup.select_one('.Content>.GameSettingInfo>.ChampionName a').get_text().split()\n",
    "print(recent_champion)"
   ]
  },
  {
   "cell_type": "code",
   "execution_count": null,
   "metadata": {},
   "outputs": [],
   "source": []
  }
 ],
 "metadata": {
  "kernelspec": {
   "display_name": "Python 3",
   "language": "python",
   "name": "python3"
  },
  "language_info": {
   "codemirror_mode": {
    "name": "ipython",
    "version": 3
   },
   "file_extension": ".py",
   "mimetype": "text/x-python",
   "name": "python",
   "nbconvert_exporter": "python",
   "pygments_lexer": "ipython3",
   "version": "3.8.5"
  }
 },
 "nbformat": 4,
 "nbformat_minor": 4
}
