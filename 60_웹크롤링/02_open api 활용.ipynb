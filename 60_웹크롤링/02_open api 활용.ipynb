{
 "cells": [
  {
   "cell_type": "markdown",
   "metadata": {},
   "source": [
    "# 2. OPEN API 활용\n",
    "\n",
    "### 공공데이터 포털사이트 활용\n",
    "1. 공공데이터 포털 회원가입 / 로그인\n",
    "2. 데이터 검색\n",
    "3. API 활용 요청, 키 발급\n",
    "4. API 메뉴얼 확인\n",
    "5. API 연동 및 테스트"
   ]
  },
  {
   "cell_type": "code",
   "execution_count": 2,
   "metadata": {},
   "outputs": [],
   "source": [
    "import requests\n",
    "import pandas as pd\n",
    "import xmltodict\n",
    "import json"
   ]
  },
  {
   "cell_type": "markdown",
   "metadata": {},
   "source": [
    "### 보건복지부 공공데이터활용지원센터_보건복지부 코로나19 감염 현황 (XML)"
   ]
  },
  {
   "cell_type": "code",
   "execution_count": 3,
   "metadata": {},
   "outputs": [
    {
     "data": {
      "text/plain": [
       "'http://openapi.data.go.kr/openapi/service/rest/Covid19/getCovid19InfStateJson?serviceKey=HIb%2F2BPBgQzxpVWatpNeU5NCBg0sGxhhURG05vt5CWkzObxA0c75Aq2%2F8yHJZovooKIlnbydLsAXTQE%2BbFwc7w%3D%3D&pageNo=1&numOfRows=10&startCreateDt=20200310&endCreateDt=20200315'"
      ]
     },
     "execution_count": 3,
     "metadata": {},
     "output_type": "execute_result"
    }
   ],
   "source": [
    "key = 'HIb%2F2BPBgQzxpVWatpNeU5NCBg0sGxhhURG05vt5CWkzObxA0c75Aq2%2F8yHJZovooKIlnbydLsAXTQE%2BbFwc7w%3D%3D'\n",
    "#  5lBQlDU8aWQ1TZqJKJBEw3i04fbeM0V3Ze3KPBD6ctosFEQChUOQKblW9RmNdAcU9slvx41ODfz3rVFo4OvqXQ%3D%3D\n",
    "url = 'http://openapi.data.go.kr/openapi/service/rest/Covid19/getCovid19InfStateJson?serviceKey={}&pageNo=1&numOfRows=10&startCreateDt=20200310&endCreateDt=20200315'.format(key)\n",
    "url"
   ]
  },
  {
   "cell_type": "code",
   "execution_count": 18,
   "metadata": {},
   "outputs": [
    {
     "data": {
      "text/plain": [
       "<Response [200]>"
      ]
     },
     "execution_count": 18,
     "metadata": {},
     "output_type": "execute_result"
    }
   ],
   "source": [
    "res = requests.get(url)\n",
    "res"
   ]
  },
  {
   "cell_type": "code",
   "execution_count": 19,
   "metadata": {},
   "outputs": [
    {
     "data": {
      "text/plain": [
       "'<?xml version=\"1.0\" encoding=\"UTF-8\" standalone=\"yes\"?><response><header><resultCode>00</resultCode><resultMsg>NORMAL SERVICE.</resultMsg></header><body><items><item><accDefRate>3.2396602365</accDefRate><accExamCnt>268212</accExamCnt><accExamCompCnt>251940</accExamCompCnt><careCnt>7300</careCnt><clearCnt>834</clearCnt><createDt>2020-03-15 10:01:22.22</createDt><deathCnt>75</deathCnt><decideCnt>8162</decideCnt><examCnt>16272</examCnt><resutlNegCnt>243778</resutlNegCnt><seq>74</seq><stateDt>20200315</stateDt><stateTime>00:00</stateTime><updateDt>2020-03-15 10:01:22.22</updateDt></item><item><accDefRate>3.3180003364</accDefRate><accExamCnt>261335</accExamCnt><accExamCompCnt>243701</accExamCompCnt><careCnt>7402</careCnt><clearCnt>714</clearCnt><createDt>2020-03-14 10:29:11.11</createDt><deathCnt>72</deathCnt><decideCnt>8086</decideCnt><examCnt>17634</examCnt><resutlNegCnt>235615</resutlNegCnt><seq>73</seq><stateDt>20200314</stateDt><stateTime>00:00</stateTime><updateDt>2020-03-14 10:29:11.11</updateDt></item><item><accDefRate>3.4584993086</accDefRate><accExamCnt>248647</accExamCnt><accExamCompCnt>230707</accExamCompCnt><careCnt>7470</careCnt><clearCnt>510</clearCnt><createDt>2020-03-13 10:07:22.22</createDt><deathCnt>67</deathCnt><decideCnt>7979</decideCnt><examCnt>17940</examCnt><resutlNegCnt>222728</resutlNegCnt><seq>72</seq><stateDt>20200313</stateDt><stateTime>00:00</stateTime><updateDt>2020-03-13 10:07:22.22</updateDt></item><item><accDefRate>3.6217442732</accDefRate><accExamCnt>234998</accExamCnt><accExamCompCnt>217271</accExamCompCnt><careCnt>7407</careCnt><clearCnt>333</clearCnt><createDt>2020-03-12 10:37:03.03</createDt><deathCnt>66</deathCnt><decideCnt>7869</decideCnt><examCnt>17727</examCnt><resutlNegCnt>209402</resutlNegCnt><seq>71</seq><stateDt>20200312</stateDt><stateTime>00:00</stateTime><updateDt>2020-03-12 10:37:03.03</updateDt></item><item><accDefRate>3.8041745358</accDefRate><accExamCnt>222395</accExamCnt><accExamCompCnt>203855</accExamCompCnt><careCnt>7212</careCnt><clearCnt>288</clearCnt><createDt>2020-03-11 10:17:19.19</createDt><deathCnt>60</deathCnt><decideCnt>7755</decideCnt><examCnt>18540</examCnt><resutlNegCnt>196100</resutlNegCnt><seq>70</seq><stateDt>20200311</stateDt><stateTime>00:00</stateTime><updateDt>2020-03-11 10:17:19.19</updateDt></item><item><accDefRate>3.9193080566</accDefRate><accExamCnt>210144</accExamCnt><accExamCompCnt>191692</accExamCompCnt><careCnt>7165</careCnt><clearCnt>247</clearCnt><createDt>2020-03-10 10:20:27.27</createDt><deathCnt>54</deathCnt><decideCnt>7513</decideCnt><examCnt>18452</examCnt><resutlNegCnt>184179</resutlNegCnt><seq>69</seq><stateDt>20200310</stateDt><stateTime>00:00</stateTime><updateDt>2020-03-10 10:20:27.27</updateDt></item></items><numOfRows>10</numOfRows><pageNo>1</pageNo><totalCount>6</totalCount></body></response>'"
      ]
     },
     "execution_count": 19,
     "metadata": {},
     "output_type": "execute_result"
    }
   ],
   "source": [
    "res.text"
   ]
  },
  {
   "cell_type": "code",
   "execution_count": 20,
   "metadata": {},
   "outputs": [
    {
     "data": {
      "text/plain": [
       "OrderedDict([('response',\n",
       "              OrderedDict([('header',\n",
       "                            OrderedDict([('resultCode', '00'),\n",
       "                                         ('resultMsg', 'NORMAL SERVICE.')])),\n",
       "                           ('body',\n",
       "                            OrderedDict([('items',\n",
       "                                          OrderedDict([('item',\n",
       "                                                        [OrderedDict([('accDefRate',\n",
       "                                                                       '3.2396602365'),\n",
       "                                                                      ('accExamCnt',\n",
       "                                                                       '268212'),\n",
       "                                                                      ('accExamCompCnt',\n",
       "                                                                       '251940'),\n",
       "                                                                      ('careCnt',\n",
       "                                                                       '7300'),\n",
       "                                                                      ('clearCnt',\n",
       "                                                                       '834'),\n",
       "                                                                      ('createDt',\n",
       "                                                                       '2020-03-15 10:01:22.22'),\n",
       "                                                                      ('deathCnt',\n",
       "                                                                       '75'),\n",
       "                                                                      ('decideCnt',\n",
       "                                                                       '8162'),\n",
       "                                                                      ('examCnt',\n",
       "                                                                       '16272'),\n",
       "                                                                      ('resutlNegCnt',\n",
       "                                                                       '243778'),\n",
       "                                                                      ('seq',\n",
       "                                                                       '74'),\n",
       "                                                                      ('stateDt',\n",
       "                                                                       '20200315'),\n",
       "                                                                      ('stateTime',\n",
       "                                                                       '00:00'),\n",
       "                                                                      ('updateDt',\n",
       "                                                                       '2020-03-15 10:01:22.22')]),\n",
       "                                                         OrderedDict([('accDefRate',\n",
       "                                                                       '3.3180003364'),\n",
       "                                                                      ('accExamCnt',\n",
       "                                                                       '261335'),\n",
       "                                                                      ('accExamCompCnt',\n",
       "                                                                       '243701'),\n",
       "                                                                      ('careCnt',\n",
       "                                                                       '7402'),\n",
       "                                                                      ('clearCnt',\n",
       "                                                                       '714'),\n",
       "                                                                      ('createDt',\n",
       "                                                                       '2020-03-14 10:29:11.11'),\n",
       "                                                                      ('deathCnt',\n",
       "                                                                       '72'),\n",
       "                                                                      ('decideCnt',\n",
       "                                                                       '8086'),\n",
       "                                                                      ('examCnt',\n",
       "                                                                       '17634'),\n",
       "                                                                      ('resutlNegCnt',\n",
       "                                                                       '235615'),\n",
       "                                                                      ('seq',\n",
       "                                                                       '73'),\n",
       "                                                                      ('stateDt',\n",
       "                                                                       '20200314'),\n",
       "                                                                      ('stateTime',\n",
       "                                                                       '00:00'),\n",
       "                                                                      ('updateDt',\n",
       "                                                                       '2020-03-14 10:29:11.11')]),\n",
       "                                                         OrderedDict([('accDefRate',\n",
       "                                                                       '3.4584993086'),\n",
       "                                                                      ('accExamCnt',\n",
       "                                                                       '248647'),\n",
       "                                                                      ('accExamCompCnt',\n",
       "                                                                       '230707'),\n",
       "                                                                      ('careCnt',\n",
       "                                                                       '7470'),\n",
       "                                                                      ('clearCnt',\n",
       "                                                                       '510'),\n",
       "                                                                      ('createDt',\n",
       "                                                                       '2020-03-13 10:07:22.22'),\n",
       "                                                                      ('deathCnt',\n",
       "                                                                       '67'),\n",
       "                                                                      ('decideCnt',\n",
       "                                                                       '7979'),\n",
       "                                                                      ('examCnt',\n",
       "                                                                       '17940'),\n",
       "                                                                      ('resutlNegCnt',\n",
       "                                                                       '222728'),\n",
       "                                                                      ('seq',\n",
       "                                                                       '72'),\n",
       "                                                                      ('stateDt',\n",
       "                                                                       '20200313'),\n",
       "                                                                      ('stateTime',\n",
       "                                                                       '00:00'),\n",
       "                                                                      ('updateDt',\n",
       "                                                                       '2020-03-13 10:07:22.22')]),\n",
       "                                                         OrderedDict([('accDefRate',\n",
       "                                                                       '3.6217442732'),\n",
       "                                                                      ('accExamCnt',\n",
       "                                                                       '234998'),\n",
       "                                                                      ('accExamCompCnt',\n",
       "                                                                       '217271'),\n",
       "                                                                      ('careCnt',\n",
       "                                                                       '7407'),\n",
       "                                                                      ('clearCnt',\n",
       "                                                                       '333'),\n",
       "                                                                      ('createDt',\n",
       "                                                                       '2020-03-12 10:37:03.03'),\n",
       "                                                                      ('deathCnt',\n",
       "                                                                       '66'),\n",
       "                                                                      ('decideCnt',\n",
       "                                                                       '7869'),\n",
       "                                                                      ('examCnt',\n",
       "                                                                       '17727'),\n",
       "                                                                      ('resutlNegCnt',\n",
       "                                                                       '209402'),\n",
       "                                                                      ('seq',\n",
       "                                                                       '71'),\n",
       "                                                                      ('stateDt',\n",
       "                                                                       '20200312'),\n",
       "                                                                      ('stateTime',\n",
       "                                                                       '00:00'),\n",
       "                                                                      ('updateDt',\n",
       "                                                                       '2020-03-12 10:37:03.03')]),\n",
       "                                                         OrderedDict([('accDefRate',\n",
       "                                                                       '3.8041745358'),\n",
       "                                                                      ('accExamCnt',\n",
       "                                                                       '222395'),\n",
       "                                                                      ('accExamCompCnt',\n",
       "                                                                       '203855'),\n",
       "                                                                      ('careCnt',\n",
       "                                                                       '7212'),\n",
       "                                                                      ('clearCnt',\n",
       "                                                                       '288'),\n",
       "                                                                      ('createDt',\n",
       "                                                                       '2020-03-11 10:17:19.19'),\n",
       "                                                                      ('deathCnt',\n",
       "                                                                       '60'),\n",
       "                                                                      ('decideCnt',\n",
       "                                                                       '7755'),\n",
       "                                                                      ('examCnt',\n",
       "                                                                       '18540'),\n",
       "                                                                      ('resutlNegCnt',\n",
       "                                                                       '196100'),\n",
       "                                                                      ('seq',\n",
       "                                                                       '70'),\n",
       "                                                                      ('stateDt',\n",
       "                                                                       '20200311'),\n",
       "                                                                      ('stateTime',\n",
       "                                                                       '00:00'),\n",
       "                                                                      ('updateDt',\n",
       "                                                                       '2020-03-11 10:17:19.19')]),\n",
       "                                                         OrderedDict([('accDefRate',\n",
       "                                                                       '3.9193080566'),\n",
       "                                                                      ('accExamCnt',\n",
       "                                                                       '210144'),\n",
       "                                                                      ('accExamCompCnt',\n",
       "                                                                       '191692'),\n",
       "                                                                      ('careCnt',\n",
       "                                                                       '7165'),\n",
       "                                                                      ('clearCnt',\n",
       "                                                                       '247'),\n",
       "                                                                      ('createDt',\n",
       "                                                                       '2020-03-10 10:20:27.27'),\n",
       "                                                                      ('deathCnt',\n",
       "                                                                       '54'),\n",
       "                                                                      ('decideCnt',\n",
       "                                                                       '7513'),\n",
       "                                                                      ('examCnt',\n",
       "                                                                       '18452'),\n",
       "                                                                      ('resutlNegCnt',\n",
       "                                                                       '184179'),\n",
       "                                                                      ('seq',\n",
       "                                                                       '69'),\n",
       "                                                                      ('stateDt',\n",
       "                                                                       '20200310'),\n",
       "                                                                      ('stateTime',\n",
       "                                                                       '00:00'),\n",
       "                                                                      ('updateDt',\n",
       "                                                                       '2020-03-10 10:20:27.27')])])])),\n",
       "                                         ('numOfRows', '10'),\n",
       "                                         ('pageNo', '1'),\n",
       "                                         ('totalCount', '6')]))]))])"
      ]
     },
     "execution_count": 20,
     "metadata": {},
     "output_type": "execute_result"
    }
   ],
   "source": [
    "temp = xmltodict.parse(res.text)\n",
    "temp"
   ]
  },
  {
   "cell_type": "code",
   "execution_count": 31,
   "metadata": {},
   "outputs": [
    {
     "data": {
      "text/plain": [
       "{'response': {'header': {'resultCode': '00', 'resultMsg': 'NORMAL SERVICE.'},\n",
       "  'body': {'items': {'item': [{'accDefRate': '3.2396602365',\n",
       "      'accExamCnt': '268212',\n",
       "      'accExamCompCnt': '251940',\n",
       "      'careCnt': '7300',\n",
       "      'clearCnt': '834',\n",
       "      'createDt': '2020-03-15 10:01:22.22',\n",
       "      'deathCnt': '75',\n",
       "      'decideCnt': '8162',\n",
       "      'examCnt': '16272',\n",
       "      'resutlNegCnt': '243778',\n",
       "      'seq': '74',\n",
       "      'stateDt': '20200315',\n",
       "      'stateTime': '00:00',\n",
       "      'updateDt': '2020-03-15 10:01:22.22'},\n",
       "     {'accDefRate': '3.3180003364',\n",
       "      'accExamCnt': '261335',\n",
       "      'accExamCompCnt': '243701',\n",
       "      'careCnt': '7402',\n",
       "      'clearCnt': '714',\n",
       "      'createDt': '2020-03-14 10:29:11.11',\n",
       "      'deathCnt': '72',\n",
       "      'decideCnt': '8086',\n",
       "      'examCnt': '17634',\n",
       "      'resutlNegCnt': '235615',\n",
       "      'seq': '73',\n",
       "      'stateDt': '20200314',\n",
       "      'stateTime': '00:00',\n",
       "      'updateDt': '2020-03-14 10:29:11.11'},\n",
       "     {'accDefRate': '3.4584993086',\n",
       "      'accExamCnt': '248647',\n",
       "      'accExamCompCnt': '230707',\n",
       "      'careCnt': '7470',\n",
       "      'clearCnt': '510',\n",
       "      'createDt': '2020-03-13 10:07:22.22',\n",
       "      'deathCnt': '67',\n",
       "      'decideCnt': '7979',\n",
       "      'examCnt': '17940',\n",
       "      'resutlNegCnt': '222728',\n",
       "      'seq': '72',\n",
       "      'stateDt': '20200313',\n",
       "      'stateTime': '00:00',\n",
       "      'updateDt': '2020-03-13 10:07:22.22'},\n",
       "     {'accDefRate': '3.6217442732',\n",
       "      'accExamCnt': '234998',\n",
       "      'accExamCompCnt': '217271',\n",
       "      'careCnt': '7407',\n",
       "      'clearCnt': '333',\n",
       "      'createDt': '2020-03-12 10:37:03.03',\n",
       "      'deathCnt': '66',\n",
       "      'decideCnt': '7869',\n",
       "      'examCnt': '17727',\n",
       "      'resutlNegCnt': '209402',\n",
       "      'seq': '71',\n",
       "      'stateDt': '20200312',\n",
       "      'stateTime': '00:00',\n",
       "      'updateDt': '2020-03-12 10:37:03.03'},\n",
       "     {'accDefRate': '3.8041745358',\n",
       "      'accExamCnt': '222395',\n",
       "      'accExamCompCnt': '203855',\n",
       "      'careCnt': '7212',\n",
       "      'clearCnt': '288',\n",
       "      'createDt': '2020-03-11 10:17:19.19',\n",
       "      'deathCnt': '60',\n",
       "      'decideCnt': '7755',\n",
       "      'examCnt': '18540',\n",
       "      'resutlNegCnt': '196100',\n",
       "      'seq': '70',\n",
       "      'stateDt': '20200311',\n",
       "      'stateTime': '00:00',\n",
       "      'updateDt': '2020-03-11 10:17:19.19'},\n",
       "     {'accDefRate': '3.9193080566',\n",
       "      'accExamCnt': '210144',\n",
       "      'accExamCompCnt': '191692',\n",
       "      'careCnt': '7165',\n",
       "      'clearCnt': '247',\n",
       "      'createDt': '2020-03-10 10:20:27.27',\n",
       "      'deathCnt': '54',\n",
       "      'decideCnt': '7513',\n",
       "      'examCnt': '18452',\n",
       "      'resutlNegCnt': '184179',\n",
       "      'seq': '69',\n",
       "      'stateDt': '20200310',\n",
       "      'stateTime': '00:00',\n",
       "      'updateDt': '2020-03-10 10:20:27.27'}]},\n",
       "   'numOfRows': '10',\n",
       "   'pageNo': '1',\n",
       "   'totalCount': '6'}}}"
      ]
     },
     "execution_count": 31,
     "metadata": {},
     "output_type": "execute_result"
    }
   ],
   "source": [
    "result = json.loads(json.dumps(temp)) # OrderDict -> dict(str) - > dict\n",
    "result"
   ]
  },
  {
   "cell_type": "code",
   "execution_count": 33,
   "metadata": {},
   "outputs": [
    {
     "name": "stdout",
     "output_type": "stream",
     "text": [
      "{'accDefRate': '3.2396602365', 'accExamCnt': '268212', 'accExamCompCnt': '251940', 'careCnt': '7300', 'clearCnt': '834', 'createDt': '2020-03-15 10:01:22.22', 'deathCnt': '75', 'decideCnt': '8162', 'examCnt': '16272', 'resutlNegCnt': '243778', 'seq': '74', 'stateDt': '20200315', 'stateTime': '00:00', 'updateDt': '2020-03-15 10:01:22.22'}\n",
      "{'accDefRate': '3.3180003364', 'accExamCnt': '261335', 'accExamCompCnt': '243701', 'careCnt': '7402', 'clearCnt': '714', 'createDt': '2020-03-14 10:29:11.11', 'deathCnt': '72', 'decideCnt': '8086', 'examCnt': '17634', 'resutlNegCnt': '235615', 'seq': '73', 'stateDt': '20200314', 'stateTime': '00:00', 'updateDt': '2020-03-14 10:29:11.11'}\n",
      "{'accDefRate': '3.4584993086', 'accExamCnt': '248647', 'accExamCompCnt': '230707', 'careCnt': '7470', 'clearCnt': '510', 'createDt': '2020-03-13 10:07:22.22', 'deathCnt': '67', 'decideCnt': '7979', 'examCnt': '17940', 'resutlNegCnt': '222728', 'seq': '72', 'stateDt': '20200313', 'stateTime': '00:00', 'updateDt': '2020-03-13 10:07:22.22'}\n",
      "{'accDefRate': '3.6217442732', 'accExamCnt': '234998', 'accExamCompCnt': '217271', 'careCnt': '7407', 'clearCnt': '333', 'createDt': '2020-03-12 10:37:03.03', 'deathCnt': '66', 'decideCnt': '7869', 'examCnt': '17727', 'resutlNegCnt': '209402', 'seq': '71', 'stateDt': '20200312', 'stateTime': '00:00', 'updateDt': '2020-03-12 10:37:03.03'}\n",
      "{'accDefRate': '3.8041745358', 'accExamCnt': '222395', 'accExamCompCnt': '203855', 'careCnt': '7212', 'clearCnt': '288', 'createDt': '2020-03-11 10:17:19.19', 'deathCnt': '60', 'decideCnt': '7755', 'examCnt': '18540', 'resutlNegCnt': '196100', 'seq': '70', 'stateDt': '20200311', 'stateTime': '00:00', 'updateDt': '2020-03-11 10:17:19.19'}\n",
      "{'accDefRate': '3.9193080566', 'accExamCnt': '210144', 'accExamCompCnt': '191692', 'careCnt': '7165', 'clearCnt': '247', 'createDt': '2020-03-10 10:20:27.27', 'deathCnt': '54', 'decideCnt': '7513', 'examCnt': '18452', 'resutlNegCnt': '184179', 'seq': '69', 'stateDt': '20200310', 'stateTime': '00:00', 'updateDt': '2020-03-10 10:20:27.27'}\n"
     ]
    }
   ],
   "source": [
    "items = result['response']['body']['items']['item']\n",
    "\n",
    "for item in items:\n",
    "    print(item)"
   ]
  },
  {
   "cell_type": "code",
   "execution_count": 40,
   "metadata": {},
   "outputs": [],
   "source": [
    "# 일자(STATE_DT), 확진자수(DECIDE_CNT), 사망자수(DEATH_CNT), 치료증환자수(CARE_CNT)\n",
    "state_dt = []\n",
    "decide_cnt = []\n",
    "death_cnt = []\n",
    "care_cnt = []\n",
    "\n",
    "for item in items:\n",
    "    state_dt.append(item['stateDt'])\n",
    "    death_cnt.append(item['deathCnt'])\n",
    "    decide_cnt.append(item['decideCnt'])\n",
    "    care_cnt.append(item['careCnt'])"
   ]
  },
  {
   "cell_type": "code",
   "execution_count": 44,
   "metadata": {},
   "outputs": [
    {
     "data": {
      "text/html": [
       "<div>\n",
       "<style scoped>\n",
       "    .dataframe tbody tr th:only-of-type {\n",
       "        vertical-align: middle;\n",
       "    }\n",
       "\n",
       "    .dataframe tbody tr th {\n",
       "        vertical-align: top;\n",
       "    }\n",
       "\n",
       "    .dataframe thead th {\n",
       "        text-align: right;\n",
       "    }\n",
       "</style>\n",
       "<table border=\"1\" class=\"dataframe\">\n",
       "  <thead>\n",
       "    <tr style=\"text-align: right;\">\n",
       "      <th></th>\n",
       "      <th>기준일</th>\n",
       "      <th>확진자수</th>\n",
       "      <th>사망자수</th>\n",
       "      <th>완치자수</th>\n",
       "    </tr>\n",
       "  </thead>\n",
       "  <tbody>\n",
       "    <tr>\n",
       "      <th>0</th>\n",
       "      <td>20200315</td>\n",
       "      <td>8162</td>\n",
       "      <td>75</td>\n",
       "      <td>7300</td>\n",
       "    </tr>\n",
       "    <tr>\n",
       "      <th>1</th>\n",
       "      <td>20200314</td>\n",
       "      <td>8086</td>\n",
       "      <td>72</td>\n",
       "      <td>7402</td>\n",
       "    </tr>\n",
       "    <tr>\n",
       "      <th>2</th>\n",
       "      <td>20200313</td>\n",
       "      <td>7979</td>\n",
       "      <td>67</td>\n",
       "      <td>7470</td>\n",
       "    </tr>\n",
       "    <tr>\n",
       "      <th>3</th>\n",
       "      <td>20200312</td>\n",
       "      <td>7869</td>\n",
       "      <td>66</td>\n",
       "      <td>7407</td>\n",
       "    </tr>\n",
       "    <tr>\n",
       "      <th>4</th>\n",
       "      <td>20200311</td>\n",
       "      <td>7755</td>\n",
       "      <td>60</td>\n",
       "      <td>7212</td>\n",
       "    </tr>\n",
       "    <tr>\n",
       "      <th>5</th>\n",
       "      <td>20200310</td>\n",
       "      <td>7513</td>\n",
       "      <td>54</td>\n",
       "      <td>7165</td>\n",
       "    </tr>\n",
       "  </tbody>\n",
       "</table>\n",
       "</div>"
      ],
      "text/plain": [
       "        기준일  확진자수 사망자수  완치자수\n",
       "0  20200315  8162   75  7300\n",
       "1  20200314  8086   72  7402\n",
       "2  20200313  7979   67  7470\n",
       "3  20200312  7869   66  7407\n",
       "4  20200311  7755   60  7212\n",
       "5  20200310  7513   54  7165"
      ]
     },
     "execution_count": 44,
     "metadata": {},
     "output_type": "execute_result"
    }
   ],
   "source": [
    "# df 생성\n",
    "df_data = {\n",
    "    '기준일' : state_dt,\n",
    "    '확진자수' : decide_cnt,\n",
    "    '사망자수' : death_cnt,\n",
    "    '완치자수' : care_cnt\n",
    "}\n",
    "\n",
    "df = pd.DataFrame(data=df_data)\n",
    "df"
   ]
  },
  {
   "cell_type": "markdown",
   "metadata": {},
   "source": [
    "### JSON 데이터"
   ]
  },
  {
   "cell_type": "code",
   "execution_count": 15,
   "metadata": {},
   "outputs": [
    {
     "data": {
      "text/plain": [
       "<Response [200]>"
      ]
     },
     "execution_count": 15,
     "metadata": {},
     "output_type": "execute_result"
    }
   ],
   "source": [
    "#key = '5lBQlDU8aWQ1TZqJKJBEw3i04fbeM0V3Ze3KPBD6ctosFEQChUOQKblW9RmNdAcU9slvx41ODfz3rVFo4OvqXQ%3D%3D'\n",
    "page = 1\n",
    "url = 'http://api.visitkorea.or.kr/openapi/service/rest/KorService/areaCode?ServiceKey={}&numOfRows=10&pageNo={}&MobileOS=ETC&MobileApp=AppTest&_type=json'.format(key, page)\n",
    "res = requests.get(url)\n",
    "res"
   ]
  },
  {
   "cell_type": "code",
   "execution_count": 16,
   "metadata": {},
   "outputs": [
    {
     "data": {
      "text/plain": [
       "'{\"response\":{\"header\":{\"resultCode\":\"0000\",\"resultMsg\":\"OK\"},\"body\":{\"items\":{\"item\":[{\"code\":1,\"name\":\"서울\",\"rnum\":1},{\"code\":2,\"name\":\"인천\",\"rnum\":2},{\"code\":3,\"name\":\"대전\",\"rnum\":3},{\"code\":4,\"name\":\"대구\",\"rnum\":4},{\"code\":5,\"name\":\"광주\",\"rnum\":5},{\"code\":6,\"name\":\"부산\",\"rnum\":6},{\"code\":7,\"name\":\"울산\",\"rnum\":7},{\"code\":8,\"name\":\"세종특별자치시\",\"rnum\":8},{\"code\":31,\"name\":\"경기도\",\"rnum\":9},{\"code\":32,\"name\":\"강원도\",\"rnum\":10}]},\"numOfRows\":10,\"pageNo\":1,\"totalCount\":17}}}'"
      ]
     },
     "execution_count": 16,
     "metadata": {},
     "output_type": "execute_result"
    }
   ],
   "source": [
    "res.text"
   ]
  },
  {
   "cell_type": "code",
   "execution_count": 17,
   "metadata": {},
   "outputs": [
    {
     "data": {
      "text/plain": [
       "{'response': {'header': {'resultCode': '0000', 'resultMsg': 'OK'},\n",
       "  'body': {'items': {'item': [{'code': 1, 'name': '서울', 'rnum': 1},\n",
       "     {'code': 2, 'name': '인천', 'rnum': 2},\n",
       "     {'code': 3, 'name': '대전', 'rnum': 3},\n",
       "     {'code': 4, 'name': '대구', 'rnum': 4},\n",
       "     {'code': 5, 'name': '광주', 'rnum': 5},\n",
       "     {'code': 6, 'name': '부산', 'rnum': 6},\n",
       "     {'code': 7, 'name': '울산', 'rnum': 7},\n",
       "     {'code': 8, 'name': '세종특별자치시', 'rnum': 8},\n",
       "     {'code': 31, 'name': '경기도', 'rnum': 9},\n",
       "     {'code': 32, 'name': '강원도', 'rnum': 10}]},\n",
       "   'numOfRows': 10,\n",
       "   'pageNo': 1,\n",
       "   'totalCount': 17}}}"
      ]
     },
     "execution_count": 17,
     "metadata": {},
     "output_type": "execute_result"
    }
   ],
   "source": [
    "data = res.json()\n",
    "data"
   ]
  },
  {
   "cell_type": "code",
   "execution_count": 31,
   "metadata": {},
   "outputs": [
    {
     "data": {
      "text/plain": [
       "(10, 17)"
      ]
     },
     "execution_count": 31,
     "metadata": {},
     "output_type": "execute_result"
    }
   ],
   "source": [
    "totalcount = data['response']['body']['totalCount']\n",
    "numofrows = data['response']['body']['numOfRows']\n",
    "\n",
    "numofrows, totalcount"
   ]
  },
  {
   "cell_type": "code",
   "execution_count": 34,
   "metadata": {},
   "outputs": [
    {
     "data": {
      "text/plain": [
       "2"
      ]
     },
     "execution_count": 34,
     "metadata": {},
     "output_type": "execute_result"
    }
   ],
   "source": [
    "querycount = totalcount // numofrows + (totalcount % numofrows > 0)\n",
    "querycount"
   ]
  },
  {
   "cell_type": "code",
   "execution_count": 35,
   "metadata": {},
   "outputs": [
    {
     "data": {
      "text/plain": [
       "[1, 2, 3, 4, 5, 6, 7, 8, 31, 32, 33, 34, 35, 36, 37, 38, 39]"
      ]
     },
     "execution_count": 35,
     "metadata": {},
     "output_type": "execute_result"
    }
   ],
   "source": [
    "code = []\n",
    "name = []\n",
    "rnum = []\n",
    "\n",
    "for i in range(querycount):\n",
    "    page = i + 1\n",
    "    url = 'http://api.visitkorea.or.kr/openapi/service/rest/KorService/areaCode?ServiceKey={}&numOfRows=10&pageNo={}&MobileOS=ETC&MobileApp=AppTest&_type=json'.format(key, page)\n",
    "    res = requests.get(url)\n",
    "    data = res.json()\n",
    "    \n",
    "    items = data['response']['body']['items']['item']\n",
    "    \n",
    "    for item in items:\n",
    "        code.append(item['code'])\n",
    "        name.append(item['name'])\n",
    "        rnum.append(item['rnum'])\n",
    "code"
   ]
  },
  {
   "cell_type": "code",
   "execution_count": 38,
   "metadata": {},
   "outputs": [
    {
     "data": {
      "text/html": [
       "<div>\n",
       "<style scoped>\n",
       "    .dataframe tbody tr th:only-of-type {\n",
       "        vertical-align: middle;\n",
       "    }\n",
       "\n",
       "    .dataframe tbody tr th {\n",
       "        vertical-align: top;\n",
       "    }\n",
       "\n",
       "    .dataframe thead th {\n",
       "        text-align: right;\n",
       "    }\n",
       "</style>\n",
       "<table border=\"1\" class=\"dataframe\">\n",
       "  <thead>\n",
       "    <tr style=\"text-align: right;\">\n",
       "      <th></th>\n",
       "      <th>code</th>\n",
       "      <th>name</th>\n",
       "      <th>rnum</th>\n",
       "    </tr>\n",
       "  </thead>\n",
       "  <tbody>\n",
       "    <tr>\n",
       "      <th>0</th>\n",
       "      <td>1</td>\n",
       "      <td>서울</td>\n",
       "      <td>1</td>\n",
       "    </tr>\n",
       "    <tr>\n",
       "      <th>1</th>\n",
       "      <td>2</td>\n",
       "      <td>인천</td>\n",
       "      <td>2</td>\n",
       "    </tr>\n",
       "    <tr>\n",
       "      <th>2</th>\n",
       "      <td>3</td>\n",
       "      <td>대전</td>\n",
       "      <td>3</td>\n",
       "    </tr>\n",
       "    <tr>\n",
       "      <th>3</th>\n",
       "      <td>4</td>\n",
       "      <td>대구</td>\n",
       "      <td>4</td>\n",
       "    </tr>\n",
       "    <tr>\n",
       "      <th>4</th>\n",
       "      <td>5</td>\n",
       "      <td>광주</td>\n",
       "      <td>5</td>\n",
       "    </tr>\n",
       "    <tr>\n",
       "      <th>5</th>\n",
       "      <td>6</td>\n",
       "      <td>부산</td>\n",
       "      <td>6</td>\n",
       "    </tr>\n",
       "    <tr>\n",
       "      <th>6</th>\n",
       "      <td>7</td>\n",
       "      <td>울산</td>\n",
       "      <td>7</td>\n",
       "    </tr>\n",
       "    <tr>\n",
       "      <th>7</th>\n",
       "      <td>8</td>\n",
       "      <td>세종특별자치시</td>\n",
       "      <td>8</td>\n",
       "    </tr>\n",
       "    <tr>\n",
       "      <th>8</th>\n",
       "      <td>31</td>\n",
       "      <td>경기도</td>\n",
       "      <td>9</td>\n",
       "    </tr>\n",
       "    <tr>\n",
       "      <th>9</th>\n",
       "      <td>32</td>\n",
       "      <td>강원도</td>\n",
       "      <td>10</td>\n",
       "    </tr>\n",
       "    <tr>\n",
       "      <th>10</th>\n",
       "      <td>33</td>\n",
       "      <td>충청북도</td>\n",
       "      <td>11</td>\n",
       "    </tr>\n",
       "    <tr>\n",
       "      <th>11</th>\n",
       "      <td>34</td>\n",
       "      <td>충청남도</td>\n",
       "      <td>12</td>\n",
       "    </tr>\n",
       "    <tr>\n",
       "      <th>12</th>\n",
       "      <td>35</td>\n",
       "      <td>경상북도</td>\n",
       "      <td>13</td>\n",
       "    </tr>\n",
       "    <tr>\n",
       "      <th>13</th>\n",
       "      <td>36</td>\n",
       "      <td>경상남도</td>\n",
       "      <td>14</td>\n",
       "    </tr>\n",
       "    <tr>\n",
       "      <th>14</th>\n",
       "      <td>37</td>\n",
       "      <td>전라북도</td>\n",
       "      <td>15</td>\n",
       "    </tr>\n",
       "    <tr>\n",
       "      <th>15</th>\n",
       "      <td>38</td>\n",
       "      <td>전라남도</td>\n",
       "      <td>16</td>\n",
       "    </tr>\n",
       "    <tr>\n",
       "      <th>16</th>\n",
       "      <td>39</td>\n",
       "      <td>제주도</td>\n",
       "      <td>17</td>\n",
       "    </tr>\n",
       "  </tbody>\n",
       "</table>\n",
       "</div>"
      ],
      "text/plain": [
       "    code     name  rnum\n",
       "0      1       서울     1\n",
       "1      2       인천     2\n",
       "2      3       대전     3\n",
       "3      4       대구     4\n",
       "4      5       광주     5\n",
       "5      6       부산     6\n",
       "6      7       울산     7\n",
       "7      8  세종특별자치시     8\n",
       "8     31      경기도     9\n",
       "9     32      강원도    10\n",
       "10    33     충청북도    11\n",
       "11    34     충청남도    12\n",
       "12    35     경상북도    13\n",
       "13    36     경상남도    14\n",
       "14    37     전라북도    15\n",
       "15    38     전라남도    16\n",
       "16    39      제주도    17"
      ]
     },
     "execution_count": 38,
     "metadata": {},
     "output_type": "execute_result"
    }
   ],
   "source": [
    "df_data = {\n",
    "    'code' : code,\n",
    "    'name' : name,\n",
    "    'rnum' : rnum\n",
    "}\n",
    "df = pd.DataFrame(data = df_data)\n",
    "df"
   ]
  },
  {
   "cell_type": "code",
   "execution_count": null,
   "metadata": {},
   "outputs": [],
   "source": []
  }
 ],
 "metadata": {
  "kernelspec": {
   "display_name": "Python 3",
   "language": "python",
   "name": "python3"
  },
  "language_info": {
   "codemirror_mode": {
    "name": "ipython",
    "version": 3
   },
   "file_extension": ".py",
   "mimetype": "text/x-python",
   "name": "python",
   "nbconvert_exporter": "python",
   "pygments_lexer": "ipython3",
   "version": "3.8.5"
  }
 },
 "nbformat": 4,
 "nbformat_minor": 4
}
