{
 "cells": [
  {
   "cell_type": "code",
   "execution_count": 1,
   "metadata": {},
   "outputs": [],
   "source": [
    "# INIT PYTHON IMPORT\n",
    "import requests\n",
    "from bs4 import BeautifulSoup\n",
    "import pandas as pd\n",
    "from selenium import webdriver\n",
    "from selenium.webdriver.common.keys import Keys\n",
    "from selenium.webdriver.common.by import By\n",
    "from selenium.webdriver.support.ui import WebDriverWait\n",
    "from selenium.webdriver.support import expected_conditions as EC\n",
    "import time\n",
    "\n",
    "# 드라이버 패스는 자신의 위치에 맞게 수정\n",
    "driver_path = 'chromedriver.exe'"
   ]
  },
  {
   "cell_type": "markdown",
   "metadata": {},
   "source": [
    "# 웹크롤링\n",
    "* 사용페이지 : op.gg (게임 리그 오브 레전드의 전적을 보여주는 웹사이트)\n",
    "* 유저의 최근 전적에 대한 데이터 프레임을 생성\n",
    "* 생성할 항목(columns) : 게임 플레이 날짜, 게임 결과, 플레이 챔피언, K(킬수), D(데스), A(어시스트), 게임 길이\n",
    "* 날짜는 년월일 시간이 출력되지만, 나는 월일만 사용할 것이므로 split과 replace를 이용한다"
   ]
  },
  {
   "cell_type": "code",
   "execution_count": 4,
   "metadata": {},
   "outputs": [],
   "source": [
    "url = 'https://op.gg/'\n",
    "driver = webdriver.Chrome(driver_path)\n",
    "driver.get(url)\n",
    "\n",
    "#테스트를 위해 닉네임은 아무거나\n",
    "target = '365일간의'\n",
    "elem = driver.find_element_by_name(\"userName\")\n",
    "elem.clear()\n",
    "# 검색 구현\n",
    "elem.send_keys(target)\n",
    "elem.send_keys(Keys.RETURN)\n",
    "WebDriverWait(driver, 10).until(\n",
    "    EC.presence_of_element_located((By.CLASS_NAME, \"GameMoreButton\"))\n",
    ")\n",
    "\n",
    "#솔로랭크 전적이 부족해 오류가 발생할 것을 대비해 자유랭크 전적을 탐색할 예정 / 탐색할 정보의 개수 : 40\n",
    "#op.gg의 경우 전적을 모든 게임으로 처음에 보여주기 때문에, 자유랭크로 옴겨야함\n",
    "path = '#right_gametype_flexranked > a'\n",
    "driver.find_element_by_css_selector(path).click()\n",
    "time.sleep(4)\n",
    "\n",
    "#자유랭크 탭으로 옮겼지만, opgg는 기본적으로는 페이지당 20개의 항목만을 지원하기 때문에, 더보기를 눌러 보여주는 전적의 수를 40개로 확장을 해야함\n",
    "path2 = '#SummonerLayoutContent > div.tabItem.Content.SummonerLayoutContent.summonerLayout-summary > div.RealContent > div > div.Content > div.GameMoreButton.Box'\n",
    "driver.find_element_by_css_selector(path2).click()\n",
    "time.sleep(2)\n",
    "\n",
    "#pagesource를 가지고 오기\n",
    "html = driver.page_source\n",
    "time.sleep(1)\n",
    "driver.close()\n",
    "#print(html)"
   ]
  },
  {
   "cell_type": "code",
   "execution_count": 5,
   "metadata": {},
   "outputs": [],
   "source": [
    "# Beautiful Soup으로 데이터 분류하기\n",
    "soup = BeautifulSoup(html)\n",
    "date = []\n",
    "result = []\n",
    "champion = []\n",
    "kill = []\n",
    "death = []\n",
    "assist = []\n",
    "game_length = []\n",
    "\n",
    "# 데이터 처리하기\n",
    "\n",
    "# 게임 결과 구하기\n",
    "d1 = soup.select('#SummonerLayoutContent > div.tabItem.Content.SummonerLayoutContent.summonerLayout-summary > div.RealContent > div > div.Content > div.GameItemList div.GameResult')\n",
    "for item in d1:\n",
    " #   date.append(item.select('.TimeStamp span').get_text())\n",
    "    result.append(item.get_text().replace('\\n', '').replace('\\t', ''))\n",
    "\n",
    "# 게임플레이 날짜 구하기\n",
    "d2 = soup.select('#SummonerLayoutContent > div.tabItem.Content.SummonerLayoutContent.summonerLayout-summary > div.RealContent > div > div.Content div.GameStats > div.TimeStamp > span')\n",
    "for item in d2:\n",
    "    text = item['title'][6:].split(' 오')[0]\n",
    "    \n",
    "    date.append(text)\n",
    "\n",
    "# 플레이 챔피언 구학\n",
    "d3 = soup.select('#SummonerLayoutContent > div.tabItem.Content.SummonerLayoutContent.summonerLayout-summary > div.RealContent > div > div.Content div.GameSettingInfo > div.ChampionName > a')\n",
    "for item in d3:\n",
    "    champion.append(item.get_text())\n",
    "\n",
    "# 게임 길이 구하기\n",
    "d4 = soup.select('#SummonerLayoutContent > div.tabItem.Content.SummonerLayoutContent.summonerLayout-summary > div.RealContent > div > div.Content div.GameStats > div.GameLength')\n",
    "for item in d4:\n",
    "    game_length.append(item.get_text())\n",
    "\n",
    "# 스코어(KDA) 구하기\n",
    "d5 = soup.select('#SummonerLayoutContent > div.tabItem.Content.SummonerLayoutContent.summonerLayout-summary > div.RealContent > div > div.Content > div.GameItemList div > div.Content > div.KDA > div.KDA span')\n",
    "kda_d = []\n",
    "for item in d5:\n",
    "    kda_d.append(item.get_text())\n",
    "for i in range(len(kda_d)):\n",
    "    if(i % 3 == 0):\n",
    "        kill.append(kda_d[i])\n",
    "    elif(i % 3 == 1):\n",
    "        death.append(kda_d[i])\n",
    "    elif(i % 3 == 2):\n",
    "        assist.append(kda_d[i])"
   ]
  },
  {
   "cell_type": "code",
   "execution_count": 11,
   "metadata": {},
   "outputs": [],
   "source": [
    "#데이터 프레임 생성하기\n",
    "data = []\n",
    "for i in range(40):\n",
    "    try:\n",
    "        data.append([date[i], result[i], champion[i], kill[i], death[i], assist[i], game_length[i]])\n",
    "    except IndexError:\n",
    "        pass\n",
    "#print(data)\n",
    "columns = ['date', 'result', 'champion', 'kill',' death', 'assist', 'game_length']\n",
    "df = pd.DataFrame(data=data, columns = columns)"
   ]
  },
  {
   "cell_type": "code",
   "execution_count": 12,
   "metadata": {},
   "outputs": [
    {
     "name": "stdout",
     "output_type": "stream",
     "text": [
      "365일간의 님의 전적\n",
      "      date result champion kill  death assist game_length\n",
      "0   9월 11일     승리    트린다미어    1      3      4     20분 31초\n",
      "1    9월 5일     패배     모르가나    0     11     19      45분 6초\n",
      "2    9월 5일     패배       자야    2     12      6     32분 20초\n",
      "3    9월 5일     패배       잭스    5     11      6     31분 13초\n",
      "4    9월 5일     승리       아리    4      4     13     26분 41초\n",
      "5    9월 3일     승리    하이머딩거   11      7      9      31분 5초\n",
      "6    9월 3일     승리     다이애나   10     10     11     32분 53초\n",
      "7    9월 2일     패배     알리스타    2     15      9     30분 24초\n",
      "8    9월 2일     승리     이렐리아    5     12      5     35분 23초\n",
      "9    9월 2일     패배       베인    3     11      5     22분 39초\n",
      "10   9월 2일     승리     킨드레드    3      1      8     24분 35초\n",
      "11   9월 2일     승리    마스터 이    6      7      6      29분 3초\n",
      "12   9월 2일     승리     킨드레드    6      0      1     16분 46초\n",
      "13   9월 2일     승리      리 신   10      3     17      33분 9초\n",
      "14  8월 31일     승리       아리   10      1      7      28분 1초\n",
      "15  8월 28일     승리    하이머딩거    1      3     10     20분 22초\n",
      "16  8월 28일     패배      야스오    4     12      2     31분 42초\n",
      "17  8월 28일     승리       조이    1      6      4     26분 15초\n",
      "18  8월 22일     승리     세주아니    6      5     13     28분 28초\n",
      "19  8월 22일     패배      엘리스    4      7      5     24분 41초\n"
     ]
    }
   ],
   "source": [
    "#데이터 프레임 출력하기\n",
    "print('{0} 님의 전적'.format(target))\n",
    "print(df)"
   ]
  },
  {
   "cell_type": "code",
   "execution_count": null,
   "metadata": {},
   "outputs": [],
   "source": []
  },
  {
   "cell_type": "code",
   "execution_count": null,
   "metadata": {},
   "outputs": [],
   "source": []
  }
 ],
 "metadata": {
  "kernelspec": {
   "display_name": "Python 3",
   "language": "python",
   "name": "python3"
  },
  "language_info": {
   "codemirror_mode": {
    "name": "ipython",
    "version": 3
   },
   "file_extension": ".py",
   "mimetype": "text/x-python",
   "name": "python",
   "nbconvert_exporter": "python",
   "pygments_lexer": "ipython3",
   "version": "3.8.5"
  }
 },
 "nbformat": 4,
 "nbformat_minor": 4
}
